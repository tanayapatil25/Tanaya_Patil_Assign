{
 "cells": [
  {
   "cell_type": "raw",
   "id": "3d936b9b",
   "metadata": {},
   "source": [
    "Exercise 1: Print First 10 natural numbers using while loop"
   ]
  },
  {
   "cell_type": "code",
   "execution_count": null,
   "id": "d4562ab7",
   "metadata": {},
   "outputs": [],
   "source": [
    "i=1\n",
    "n=10\n",
    "while i<=n:\n",
    "    print (i)\n",
    "    i=i+1"
   ]
  },
  {
   "cell_type": "raw",
   "id": "8816fb1a",
   "metadata": {},
   "source": [
    "Exercise 2: Print the following pattern:  1111\n",
    "                                           111\n",
    "                                            11\n",
    "                                             1"
   ]
  },
  {
   "cell_type": "code",
   "execution_count": 26,
   "id": "94fa0968",
   "metadata": {},
   "outputs": [
    {
     "name": "stdout",
     "output_type": "stream",
     "text": [
      "  1 1 1 1 \n",
      "    1 1 1 \n",
      "      1 1 \n",
      "        1 \n"
     ]
    }
   ],
   "source": [
    "\n",
    "n=4\n",
    "for i in range(n):\n",
    "    for j in range(i+1):\n",
    "        print(' ',end=' ')\n",
    "    for j in range(i,n):\n",
    "        print('1',end=' ')\n",
    "    print()\n",
    "    "
   ]
  },
  {
   "cell_type": "raw",
   "id": "38450e8a",
   "metadata": {},
   "source": [
    "Exercise 3: Calculate the sum of all numbers from 1 to a given number"
   ]
  },
  {
   "cell_type": "code",
   "execution_count": 32,
   "id": "e06ffde6",
   "metadata": {},
   "outputs": [
    {
     "name": "stdout",
     "output_type": "stream",
     "text": [
      "Enter number:3\n",
      "6\n"
     ]
    }
   ],
   "source": [
    "n=int(input(\"Enter number:\"))\n",
    "sum=0\n",
    "for i in range(1,n+1):\n",
    "    sum=sum+i\n",
    "print(sum)\n",
    "    "
   ]
  },
  {
   "cell_type": "raw",
   "id": "2ab42e17",
   "metadata": {},
   "source": [
    "Exercise 4: Write a program to print multiplication table of a given number"
   ]
  },
  {
   "cell_type": "code",
   "execution_count": 4,
   "id": "1ea44a16",
   "metadata": {},
   "outputs": [
    {
     "name": "stdout",
     "output_type": "stream",
     "text": [
      "Enter number:2\n",
      "0\n",
      "2\n",
      "4\n",
      "6\n",
      "8\n",
      "10\n",
      "12\n",
      "14\n",
      "16\n",
      "18\n",
      "20\n",
      "\n"
     ]
    }
   ],
   "source": [
    "n=int(input(\"Enter number:\"))\n",
    "i=1\n",
    "for i in range(11):\n",
    "    print(n*i)\n",
    "print()"
   ]
  },
  {
   "cell_type": "raw",
   "id": "a0245a27",
   "metadata": {},
   "source": [
    "Exercise 5: Display numbers from a list using loop"
   ]
  },
  {
   "cell_type": "code",
   "execution_count": null,
   "id": "10313a09",
   "metadata": {},
   "outputs": [],
   "source": [
    "l1=['64','Krish','91.6','patil','1']\n",
    "for l in l1:\n",
    "    if l.isdigit():\n",
    "        print(l)"
   ]
  },
  {
   "cell_type": "raw",
   "id": "6fde1ca1",
   "metadata": {},
   "source": [
    "Exercise 6: Count the total number of digits in a number"
   ]
  },
  {
   "cell_type": "code",
   "execution_count": 42,
   "id": "cb37b731",
   "metadata": {},
   "outputs": [
    {
     "name": "stdout",
     "output_type": "stream",
     "text": [
      "Enter number:12345\n",
      "5\n"
     ]
    }
   ],
   "source": [
    "n=int(input(\"Enter number:\"))\n",
    "count=0\n",
    "while n!=0:\n",
    "    n//=10\n",
    "    count=count+1\n",
    "print(count)"
   ]
  },
  {
   "cell_type": "raw",
   "id": "d819608c",
   "metadata": {},
   "source": [
    "Exercise 7: Print the following pattern : Diamond shape"
   ]
  },
  {
   "cell_type": "code",
   "execution_count": 7,
   "id": "e5ea0a37",
   "metadata": {},
   "outputs": [
    {
     "name": "stdout",
     "output_type": "stream",
     "text": [
      "   *\n",
      "  ***\n",
      " *****\n",
      "*******\n",
      " *****\n",
      "  ***\n",
      "   *\n"
     ]
    }
   ],
   "source": [
    "n = 4\n",
    "for i in range(1, n + 1):\n",
    "    for j in range(n, i, -1):\n",
    "        print(\" \", end=\"\")\n",
    "    \n",
    "    for k in range(1, 2 * i):\n",
    "        print(\"*\", end=\"\")\n",
    "    print()\n",
    "\n",
    "for i in range(n - 1, 0, -1):\n",
    "    for j in range(n, i, -1):\n",
    "        print(\" \", end=\"\")\n",
    "    \n",
    "    for k in range(1, 2 * i):\n",
    "        print(\"*\", end=\"\")\n",
    "    print()"
   ]
  },
  {
   "cell_type": "raw",
   "id": "56b09cc9",
   "metadata": {},
   "source": [
    "Exercise 8: Print list in reverse order using a loop"
   ]
  },
  {
   "cell_type": "code",
   "execution_count": 8,
   "id": "ed066b74",
   "metadata": {},
   "outputs": [
    {
     "name": "stdout",
     "output_type": "stream",
     "text": [
      "pqr\n",
      "xyz\n",
      "8\n",
      "abc\n",
      "6\n",
      "2\n"
     ]
    }
   ],
   "source": [
    "l1=['2','6','abc','8','xyz','pqr']\n",
    "for i in range(len(l1)-1,-1,-1):\n",
    "    print(l1[i])"
   ]
  },
  {
   "cell_type": "raw",
   "id": "821656b6",
   "metadata": {},
   "source": [
    "Exercise 9: Display numbers from -10 to -1 using for loop"
   ]
  },
  {
   "cell_type": "code",
   "execution_count": 47,
   "id": "f0dcdf04",
   "metadata": {},
   "outputs": [
    {
     "name": "stdout",
     "output_type": "stream",
     "text": [
      "-10\n",
      "-9\n",
      "-8\n",
      "-7\n",
      "-6\n",
      "-5\n",
      "-4\n",
      "-3\n",
      "-2\n",
      "-1\n"
     ]
    }
   ],
   "source": [
    "for i in range(-10,0):\n",
    "    print(i)  "
   ]
  },
  {
   "cell_type": "raw",
   "id": "de80b7e6",
   "metadata": {},
   "source": [
    "Exercise 10: Use else block to display a message “Done” after successful execution of for loop"
   ]
  },
  {
   "cell_type": "code",
   "execution_count": 48,
   "id": "87750141",
   "metadata": {},
   "outputs": [
    {
     "name": "stdout",
     "output_type": "stream",
     "text": [
      "-10\n",
      "-9\n",
      "-8\n",
      "-7\n",
      "-6\n",
      "-5\n",
      "-4\n",
      "-3\n",
      "-2\n",
      "-1\n",
      "Done!\n"
     ]
    }
   ],
   "source": [
    "for i in range(-10,0):\n",
    "    print(i)\n",
    "else:\n",
    "    print(\"Done!\")"
   ]
  },
  {
   "cell_type": "raw",
   "id": "5a08ca72",
   "metadata": {},
   "source": [
    "Exercise 11: Write a program to display all prime numbers within a range"
   ]
  },
  {
   "cell_type": "code",
   "execution_count": 55,
   "id": "947bc083",
   "metadata": {},
   "outputs": [
    {
     "name": "stdout",
     "output_type": "stream",
     "text": [
      "Enter end range:20\n",
      "2\n",
      "3\n",
      "5\n",
      "7\n",
      "11\n",
      "13\n",
      "17\n",
      "19\n"
     ]
    }
   ],
   "source": [
    "i=1\n",
    "n=int(input(\"Enter end range:\"))\n",
    "for num in range(i, n + 1):\n",
    "        if num > 1:\n",
    "            for i in range(2, num):\n",
    "                if (num % i) == 0:\n",
    "                    break\n",
    "            else:\n",
    "                print(num)"
   ]
  },
  {
   "cell_type": "raw",
   "id": "c41ed26b",
   "metadata": {},
   "source": [
    "Exercise 12: Display Fibonacci series up to 10 terms"
   ]
  },
  {
   "cell_type": "code",
   "execution_count": 63,
   "id": "8c9187c9",
   "metadata": {},
   "outputs": [
    {
     "name": "stdout",
     "output_type": "stream",
     "text": [
      "0 1 1 2 3 5 8 13 21 34 10\n"
     ]
    }
   ],
   "source": [
    "n=10\n",
    "a, b = 0, 1\n",
    "for i in range(1,n+1):\n",
    "        print(a, end=' ')\n",
    "        c=a+b\n",
    "        a,b=b,c\n",
    "print(i)\n",
    "    \n",
    "    "
   ]
  },
  {
   "cell_type": "raw",
   "id": "6972cf51",
   "metadata": {},
   "source": [
    "Exercise 13: Find the factorial of a given number"
   ]
  },
  {
   "cell_type": "code",
   "execution_count": 38,
   "id": "75c4ab8f",
   "metadata": {},
   "outputs": [
    {
     "name": "stdout",
     "output_type": "stream",
     "text": [
      "Enter number:5\n",
      "120\n"
     ]
    }
   ],
   "source": [
    "n=int(input(\"Enter number:\"))\n",
    "fact=1\n",
    "for i in range(1,n+1):\n",
    "    fact*=i\n",
    "print(fact)"
   ]
  },
  {
   "cell_type": "raw",
   "id": "59991c4a",
   "metadata": {},
   "source": [
    "Exercise 14: Reverse a given integer number"
   ]
  },
  {
   "cell_type": "code",
   "execution_count": 45,
   "id": "79b82e6e",
   "metadata": {},
   "outputs": [
    {
     "name": "stdout",
     "output_type": "stream",
     "text": [
      "Enter number:123\n",
      "321\n"
     ]
    }
   ],
   "source": [
    "n=int(input(\"Enter number:\"))\n",
    "reverse = 0\n",
    "while n!= 0:\n",
    "        digit = n % 10\n",
    "        reverse = reverse * 10 + digit\n",
    "        n = n // 10\n",
    "print(reverse)"
   ]
  },
  {
   "cell_type": "raw",
   "id": "c0e35133",
   "metadata": {},
   "source": [
    "Exercise 15: Use a loop to display elements from a given list present at odd index positions"
   ]
  },
  {
   "cell_type": "code",
   "execution_count": 46,
   "id": "08803328",
   "metadata": {
    "scrolled": true
   },
   "outputs": [
    {
     "name": "stdout",
     "output_type": "stream",
     "text": [
      "9\n",
      "3.2\n",
      "7.1\n"
     ]
    }
   ],
   "source": [
    "l2=['5','9','ab','3.2','ty','7.1']\n",
    "for i in range(len(l2)):\n",
    "    if i%2!=0:\n",
    "        print(l2[i])"
   ]
  },
  {
   "cell_type": "raw",
   "id": "07b20edb",
   "metadata": {},
   "source": [
    "Exercise 16: Calculate the cube of all numbers from 1 to a given number"
   ]
  },
  {
   "cell_type": "code",
   "execution_count": 54,
   "id": "6683ae12",
   "metadata": {},
   "outputs": [
    {
     "name": "stdout",
     "output_type": "stream",
     "text": [
      "Enter number:3\n",
      "1=1\n",
      "2=8\n",
      "3=27\n"
     ]
    }
   ],
   "source": [
    "n=int(input(\"Enter number:\"))\n",
    "for i in range(1, n+1):\n",
    "        print(f\"{i}={i**3}\")"
   ]
  },
  {
   "cell_type": "raw",
   "id": "62579b0c",
   "metadata": {},
   "source": [
    "Exercise 17: Find the sum of the series upto n terms"
   ]
  },
  {
   "cell_type": "code",
   "execution_count": 1,
   "id": "27488ce6",
   "metadata": {},
   "outputs": [
    {
     "name": "stdout",
     "output_type": "stream",
     "text": [
      "Enter the number5\n",
      "sum of series is 12345\n"
     ]
    }
   ],
   "source": [
    "n = int(input(\"Enter the number\"))\n",
    "sum = 0\n",
    "j = 1\n",
    "for i in range(1,n+1):\n",
    "    sum = sum + j\n",
    "    j = (j*10)+1\n",
    "print(\"sum of series is\",sum)"
   ]
  }
 ],
 "metadata": {
  "kernelspec": {
   "display_name": "Python 3 (ipykernel)",
   "language": "python",
   "name": "python3"
  },
  "language_info": {
   "codemirror_mode": {
    "name": "ipython",
    "version": 3
   },
   "file_extension": ".py",
   "mimetype": "text/x-python",
   "name": "python",
   "nbconvert_exporter": "python",
   "pygments_lexer": "ipython3",
   "version": "3.9.12"
  }
 },
 "nbformat": 4,
 "nbformat_minor": 5
}
