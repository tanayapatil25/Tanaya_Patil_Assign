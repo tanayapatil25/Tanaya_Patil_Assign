{
 "cells": [
  {
   "cell_type": "markdown",
   "id": "b27b29eb",
   "metadata": {},
   "source": [
    "# 1. WAP AREA OF RECTANGLE"
   ]
  },
  {
   "cell_type": "code",
   "execution_count": 1,
   "id": "a8c25602",
   "metadata": {},
   "outputs": [
    {
     "name": "stdout",
     "output_type": "stream",
     "text": [
      "length in cm20\n",
      "breadth in cm30\n",
      "your area rectangle is :  600 cm^2\n"
     ]
    }
   ],
   "source": [
    "l = int(input(\"length in cm\"))\n",
    "b = int(input(\"breadth in cm\"))\n",
    "a = i*b\n",
    "print(\"your area rectangle is : \",a,\"cm^2\")"
   ]
  },
  {
   "cell_type": "markdown",
   "id": "bee7ee11",
   "metadata": {},
   "source": [
    "# 2. WAP AREA OF CIRCLE"
   ]
  },
  {
   "cell_type": "code",
   "execution_count": 4,
   "id": "522a1a3d",
   "metadata": {},
   "outputs": [
    {
     "name": "stdout",
     "output_type": "stream",
     "text": [
      "enter your radius20\n",
      "your area is: 1256.0\n"
     ]
    }
   ],
   "source": [
    "r = int(input(\"enter your radius\"))\n",
    "a = 3.14*(r*r)\n",
    "print(\"your area is:\",a)"
   ]
  },
  {
   "cell_type": "markdown",
   "id": "c05cf08b",
   "metadata": {},
   "source": [
    "# 3. WAP AREA OF CUBOID"
   ]
  },
  {
   "cell_type": "code",
   "execution_count": 3,
   "id": "f3c843ca",
   "metadata": {},
   "outputs": [
    {
     "name": "stdout",
     "output_type": "stream",
     "text": [
      "enter length20\n",
      "enter length10\n",
      "enter length30\n",
      "the area is: 2200\n"
     ]
    }
   ],
   "source": [
    "l = int(input(\"enter length\"))\n",
    "b = int(input(\"enter length\"))\n",
    "h = int(input(\"enter length\"))\n",
    "a = 2*(l*b+b*h+h*l)\n",
    "print(\"the area is:\",a)"
   ]
  },
  {
   "cell_type": "markdown",
   "id": "5b6fa263",
   "metadata": {},
   "source": [
    "# 4. WAP AREA OF CUBE"
   ]
  },
  {
   "cell_type": "code",
   "execution_count": 5,
   "id": "29e78ab2",
   "metadata": {},
   "outputs": [
    {
     "name": "stdout",
     "output_type": "stream",
     "text": [
      "enter length5\n",
      "the area of cube is: 150\n"
     ]
    }
   ],
   "source": [
    "a = int(input(\"enter length\"))\n",
    "x = 6*(a*a)\n",
    "print(\"the area of cube is:\",x)"
   ]
  },
  {
   "cell_type": "markdown",
   "id": "779777bd",
   "metadata": {},
   "source": [
    "# 5. WAP AREA OF CSA OF CYLINDER"
   ]
  },
  {
   "cell_type": "code",
   "execution_count": 6,
   "id": "d94b5617",
   "metadata": {},
   "outputs": [
    {
     "name": "stdout",
     "output_type": "stream",
     "text": [
      "enter radius5\n",
      "enter height3\n",
      "your c.c.a is 94.2\n"
     ]
    }
   ],
   "source": [
    "r = int(input(\"enter radius\"))\n",
    "h = int(input(\"enter height\"))\n",
    "a = 2*(3.14*(r*h))\n",
    "print(\"your c.c.a is\",a)"
   ]
  },
  {
   "cell_type": "markdown",
   "id": "95b28e3e",
   "metadata": {},
   "source": [
    "# 6. WAP AREA OF TSA CYLINDER"
   ]
  },
  {
   "cell_type": "code",
   "execution_count": 9,
   "id": "93fad4ba",
   "metadata": {},
   "outputs": [
    {
     "name": "stdout",
     "output_type": "stream",
     "text": [
      "enter radius5\n",
      "enter height6\n",
      "area is 345.40000000000003\n"
     ]
    }
   ],
   "source": [
    "r = int(input(\"enter radius\"))\n",
    "h = int(input(\"enter height\"))\n",
    "a = 2*3.14*r*(r+h)\n",
    "print(\"area is\",a)"
   ]
  },
  {
   "cell_type": "markdown",
   "id": "e3b23284",
   "metadata": {},
   "source": [
    "# 7. WAP AREA OF CSA CONE"
   ]
  },
  {
   "cell_type": "code",
   "execution_count": 12,
   "id": "f5d75d94",
   "metadata": {},
   "outputs": [
    {
     "name": "stdout",
     "output_type": "stream",
     "text": [
      "enter radius5\n",
      "enter length5\n",
      "csa is: 78.5\n"
     ]
    }
   ],
   "source": [
    "r=int(input(\"enter radius\"))\n",
    "\n",
    "l=int(input(\"enter length\"))\n",
    "\n",
    "a=3.14*r*l\n",
    "\n",
    "print(\"csa is:\",a)"
   ]
  },
  {
   "cell_type": "markdown",
   "id": "21ade11f",
   "metadata": {},
   "source": [
    "# 8. WAP AREA OF TSA OF RIGHT CIRCULARCONE"
   ]
  },
  {
   "cell_type": "code",
   "execution_count": 3,
   "id": "377aa9fd",
   "metadata": {},
   "outputs": [
    {
     "name": "stdout",
     "output_type": "stream",
     "text": [
      "enter radius5\n",
      "enter slant height56\n",
      "the tsa is: 94.2\n"
     ]
    }
   ],
   "source": [
    "r=int(input(\"enter radius\"))\n",
    "\n",
    "l=int(input(\"enter slant height5\"))\n",
    "\n",
    "a=3.14*r*(1+r)\n",
    "\n",
    "print(\"the tsa is:\",a)"
   ]
  },
  {
   "cell_type": "markdown",
   "id": "92e4be1f",
   "metadata": {},
   "source": [
    "# 9. WAP TSA OF SPHERE"
   ]
  },
  {
   "cell_type": "code",
   "execution_count": 4,
   "id": "9b9a64f0",
   "metadata": {},
   "outputs": [
    {
     "name": "stdout",
     "output_type": "stream",
     "text": [
      "enter radius5\n",
      "tsa of sphere is: 314.0\n"
     ]
    }
   ],
   "source": [
    "r=int(input(\"enter radius\"))\n",
    "\n",
    "a=4* (3.14* (r*r))\n",
    "\n",
    "print(\"tsa of sphere is:\", a)"
   ]
  },
  {
   "cell_type": "markdown",
   "id": "bf1a0490",
   "metadata": {},
   "source": [
    "# 10. WAP VOLUME OF CUBOID"
   ]
  },
  {
   "cell_type": "code",
   "execution_count": 5,
   "id": "c73c6bc2",
   "metadata": {},
   "outputs": [
    {
     "name": "stdout",
     "output_type": "stream",
     "text": [
      "enter length5\n",
      "enter breadth6\n",
      "enter height7\n",
      "volume of cubsid is: 210\n"
     ]
    }
   ],
   "source": [
    "l=int(input(\"enter length\"))\n",
    "\n",
    "b=int(input(\"enter breadth\"))\n",
    "\n",
    "h=int(input(\"enter height\"))\n",
    "\n",
    "a=l*b*h\n",
    "\n",
    "print(\"volume of cubsid is:\",a)"
   ]
  },
  {
   "cell_type": "markdown",
   "id": "6d04252a",
   "metadata": {},
   "source": [
    "# 11. WAP VOLUME OF CUBE"
   ]
  },
  {
   "cell_type": "code",
   "execution_count": 7,
   "id": "e1e7f46f",
   "metadata": {},
   "outputs": [
    {
     "name": "stdout",
     "output_type": "stream",
     "text": [
      "enter length5\n",
      "volume of cube is: 125\n"
     ]
    }
   ],
   "source": [
    "l=int(input(\"enter length\"))\n",
    "\n",
    "a=l*l*l\n",
    "\n",
    "print(\"volume of cube is:\",a)"
   ]
  },
  {
   "cell_type": "markdown",
   "id": "21b61dda",
   "metadata": {},
   "source": [
    "# 12. WAP VOLUME OF CYLINDER"
   ]
  },
  {
   "cell_type": "code",
   "execution_count": 8,
   "id": "5c7622d1",
   "metadata": {},
   "outputs": [
    {
     "name": "stdout",
     "output_type": "stream",
     "text": [
      "enter radius5\n",
      "enter height6\n",
      "volume is: 471.0\n"
     ]
    }
   ],
   "source": [
    "r=int(input(\"enter radius\"))\n",
    "\n",
    "h=int(input(\"enter height\"))\n",
    "\n",
    "v=3.14* (r*r)*h\n",
    "\n",
    "print(\"volume is:\",v)"
   ]
  },
  {
   "cell_type": "markdown",
   "id": "cc250c11",
   "metadata": {},
   "source": [
    "# 13. WAP VOLUME OF CONE"
   ]
  },
  {
   "cell_type": "code",
   "execution_count": 9,
   "id": "141a167f",
   "metadata": {},
   "outputs": [
    {
     "name": "stdout",
     "output_type": "stream",
     "text": [
      "enter radius5\n",
      "enter height5\n",
      "volume is: 130.83333333333331\n"
     ]
    }
   ],
   "source": [
    "r=int(input(\"enter radius\"))\n",
    "\n",
    "h=int(input(\"enter height\"))\n",
    "\n",
    "v=1/3* (3.14* (r*r)*h)\n",
    "\n",
    "print(\"volume is:\",v)"
   ]
  },
  {
   "cell_type": "markdown",
   "id": "7fa6bb7d",
   "metadata": {},
   "source": [
    "# 14. WAP VOLUME OF SPHERE"
   ]
  },
  {
   "cell_type": "code",
   "execution_count": 11,
   "id": "3e0df3d9",
   "metadata": {},
   "outputs": [
    {
     "name": "stdout",
     "output_type": "stream",
     "text": [
      "enter radius5\n",
      "volume is: 523.3333333333333\n"
     ]
    }
   ],
   "source": [
    "r=int(input(\"enter radius\"))\n",
    "\n",
    "v=4/3* (3.14* (r*r*r))\n",
    "\n",
    "print(\"volume is:\",v)"
   ]
  },
  {
   "cell_type": "markdown",
   "id": "fbb1e639",
   "metadata": {},
   "source": [
    "# 15. WAP PERIMETER OF RECTANGLE"
   ]
  },
  {
   "cell_type": "code",
   "execution_count": 14,
   "id": "4c4b3531",
   "metadata": {},
   "outputs": [
    {
     "name": "stdout",
     "output_type": "stream",
     "text": [
      "enter length in cm 5\n",
      "enter breadth in cm 6\n",
      "perimeter of rectangle is: 22 cm\n"
     ]
    }
   ],
   "source": [
    "l=int(input(\"enter length in cm \"))\n",
    "\n",
    "b=int(input(\"enter breadth in cm \"))\n",
    "\n",
    "a=2*(l+b)\n",
    "\n",
    "print(\"perimeter of rectangle is:\",a,\"cm\")"
   ]
  },
  {
   "cell_type": "markdown",
   "id": "997dffd9",
   "metadata": {},
   "source": [
    "# 16. WAP AREA OF SQUARE"
   ]
  },
  {
   "cell_type": "code",
   "execution_count": 16,
   "id": "abce969b",
   "metadata": {},
   "outputs": [
    {
     "name": "stdout",
     "output_type": "stream",
     "text": [
      "enter length in cm 5\n",
      "your area of square is: 25 cm^2\n"
     ]
    }
   ],
   "source": [
    "A=int(input(\"enter length in cm \"))\n",
    "\n",
    "x=A*A\n",
    "\n",
    "print(\"your area of square is:\",x, \"cm^2\")"
   ]
  },
  {
   "cell_type": "markdown",
   "id": "e3b50a5a",
   "metadata": {},
   "source": [
    "# 17. WAP AREA OF TRIANGLE"
   ]
  },
  {
   "cell_type": "code",
   "execution_count": 17,
   "id": "a050a505",
   "metadata": {},
   "outputs": [
    {
     "name": "stdout",
     "output_type": "stream",
     "text": [
      "enter height5\n",
      "enter base6\n",
      "your area is: 15.0 cm^2\n"
     ]
    }
   ],
   "source": [
    "h=int(input(\"enter height\"))\n",
    "\n",
    "b=int(input(\"enter base\"))\n",
    "\n",
    "a=1/2*(b*h)\n",
    "\n",
    "print(\"your area is:\", a, \"cm^2\")"
   ]
  },
  {
   "cell_type": "markdown",
   "id": "65e76658",
   "metadata": {},
   "source": [
    "# 18. WAP GREATEST NO. IN THREE NUMBERS"
   ]
  },
  {
   "cell_type": "code",
   "execution_count": 19,
   "id": "4920725d",
   "metadata": {},
   "outputs": [
    {
     "name": "stdout",
     "output_type": "stream",
     "text": [
      "enter first no 5\n",
      "enter second no 4\n",
      "enter third no2\n",
      "the greatest no is: 5\n"
     ]
    }
   ],
   "source": [
    "a=int(input(\"enter first no \"))\n",
    "\n",
    "b=int(input(\"enter second no \"))\n",
    "\n",
    "c=int(input(\"enter third no\"))\n",
    "\n",
    "if a>b:\n",
    "\n",
    "    if a>c:\n",
    "\n",
    "        print(\"the greatest no is:\",a)\n",
    "\n",
    "    else:\n",
    "\n",
    "        print(\"the greatest no is:\",c)\n",
    "\n",
    "else:\n",
    "\n",
    "    if b>c:\n",
    "\n",
    "        print(\"the greatest no is:\",b)\n",
    "\n",
    "    else:\n",
    "\n",
    "        print(\"the greatest no is:\",c)"
   ]
  },
  {
   "cell_type": "markdown",
   "id": "8e1c3894",
   "metadata": {},
   "source": [
    "# 19. WAP PERIMETER OF TRIANGLE"
   ]
  },
  {
   "cell_type": "code",
   "execution_count": 20,
   "id": "c01fd7c7",
   "metadata": {},
   "outputs": [
    {
     "name": "stdout",
     "output_type": "stream",
     "text": [
      "enter first side of tringle 5\n",
      "enter second side of tringle 4\n",
      "enter third side of tringle 6\n",
      "the perimeter is: 15\n"
     ]
    }
   ],
   "source": [
    "a=int(input(\"enter first side of tringle \"))\n",
    "\n",
    "b=int(input(\"enter second side of tringle \"))\n",
    "\n",
    "c=int(input(\"enter third side of tringle \"))\n",
    "\n",
    "perimeter=a+b+c\n",
    "\n",
    "print(\"the perimeter is:\",perimeter)"
   ]
  },
  {
   "cell_type": "markdown",
   "id": "80959a9c",
   "metadata": {},
   "source": [
    "# 20. WAP GREATEST NO. IN FOUR NO."
   ]
  },
  {
   "cell_type": "code",
   "execution_count": 21,
   "id": "49be352d",
   "metadata": {},
   "outputs": [
    {
     "name": "stdout",
     "output_type": "stream",
     "text": [
      "enter first no 5\n",
      "enter second no 6\n",
      "enter third no 7\n",
      "enter fourth no 9\n",
      "greatest number is: 9.0\n"
     ]
    }
   ],
   "source": [
    "a=float(input(\"enter first no \"))\n",
    "\n",
    "b=float(input(\"enter second no \"))\n",
    "\n",
    "c=float(input(\"enter third no \"))\n",
    "\n",
    "d=float(input(\"enter fourth no \"))\n",
    "\n",
    "if (a>b and a>c and a>d):\n",
    "\n",
    "    print(\"greatest number is:\",a)\n",
    "\n",
    "elif (b>c and b>d): \n",
    "    \n",
    "    print(\"greatest number is:\",b)\n",
    "\n",
    "elif (c>d):\n",
    "\n",
    "    print(\"greatest number is:\",c)\n",
    "\n",
    "elif (d>c):\n",
    "\n",
    "    print(\"greatest number is:\",d)\n",
    "\n",
    "else:\n",
    "    print(\"Either any two values or all the four values are equal\")"
   ]
  },
  {
   "cell_type": "markdown",
   "id": "71134ada",
   "metadata": {},
   "source": [
    "# 21. WAP TO CHECK DIVISION IN RESULT"
   ]
  },
  {
   "cell_type": "code",
   "execution_count": 23,
   "id": "e208bc9a",
   "metadata": {},
   "outputs": [
    {
     "name": "stdout",
     "output_type": "stream",
     "text": [
      "enter marks out of 300 260\n",
      "percentage is 86.66666666666667 \n",
      "your division is first\n"
     ]
    }
   ],
   "source": [
    "a=eval(input(\"enter marks out of 300 \"))\n",
    "\n",
    "b=a/300*100\n",
    "\n",
    "print(\"percentage is\", b, \"\")\n",
    "\n",
    "if(a>300):\n",
    "\n",
    "    print(\"you entered a wrong marks\")\n",
    "\n",
    "elif b>60:\n",
    "\n",
    "    print (\"your division is first\")\n",
    "\n",
    "elif (b>50 and b<53):\n",
    "\n",
    "    print(\"your division is second\")\n",
    "\n",
    "elif (b>33 and b<50):\n",
    "\n",
    "    print(\"your division is third\")\n",
    "\n",
    "else:\n",
    "\n",
    "    print(\"fail\")"
   ]
  },
  {
   "cell_type": "markdown",
   "id": "e5d5b50b",
   "metadata": {},
   "source": [
    "# 22. WAP TO CHECK AGE CRITERIA"
   ]
  },
  {
   "cell_type": "code",
   "execution_count": 24,
   "id": "56bc0e0e",
   "metadata": {},
   "outputs": [
    {
     "name": "stdout",
     "output_type": "stream",
     "text": [
      "enter your age 23\n",
      "young\n"
     ]
    }
   ],
   "source": [
    "y=int(input(\"enter your age \"))\n",
    "\n",
    "if (y>0 and y<12):\n",
    "\n",
    "    print(\"kid\")\n",
    "\n",
    "elif (y>=12 and y<19):\n",
    "\n",
    "    print(\"teenager\")\n",
    "\n",
    "elif(y>19 and y<30):\n",
    "\n",
    "    print(\"young\")\n",
    "\n",
    "elif(y>30 and y<45):\n",
    "\n",
    "    print(\"mature\")\n",
    "\n",
    "elif (y>45 and y<60):\n",
    "\n",
    "    print(\"experienced\")\n",
    "\n",
    "elif(y>60 and y<75):\n",
    "\n",
    "    print(\"old\")\n",
    "\n",
    "elif (y>75):\n",
    "\n",
    "    print(\"senior citizen\")"
   ]
  },
  {
   "cell_type": "markdown",
   "id": "5732d434",
   "metadata": {},
   "source": [
    "# 23. WAP SUM OF Nth NO."
   ]
  },
  {
   "cell_type": "code",
   "execution_count": 5,
   "id": "d14d75fd",
   "metadata": {},
   "outputs": [
    {
     "name": "stdout",
     "output_type": "stream",
     "text": [
      "enter limit5\n",
      "the sum is 10\n"
     ]
    }
   ],
   "source": [
    "n=int(input(\"enter limit\"))\n",
    "\n",
    "s=0\n",
    "\n",
    "for c in range(1,n):\n",
    "    s=c+s\n",
    "\n",
    "print(\"the sum is\",s)"
   ]
  },
  {
   "cell_type": "markdown",
   "id": "176a2c05",
   "metadata": {},
   "source": [
    "# 24. WAP TO CHECK THE VALUE OF FACTORIAL"
   ]
  },
  {
   "cell_type": "code",
   "execution_count": 6,
   "id": "7c1514a8",
   "metadata": {},
   "outputs": [
    {
     "name": "stdout",
     "output_type": "stream",
     "text": [
      "enter a number5\n",
      "the factorial of 5 is 120\n"
     ]
    }
   ],
   "source": [
    "a=int(input(\"enter a number\"))\n",
    "\n",
    "factorial =1\n",
    "\n",
    "if a<0: \n",
    "    print(\"sorry, factorial does not exist for negative number\")\n",
    "\n",
    "elif a==0: \n",
    "    print(\"the factorial of 0 is 1\")\n",
    "\n",
    "else: \n",
    "    for i in range (1,a+1): \n",
    "        factorial=factorial*i\n",
    "\n",
    "print(\"the factorial of\",a, \"is\", factorial)"
   ]
  },
  {
   "cell_type": "markdown",
   "id": "37081ace",
   "metadata": {},
   "source": [
    "# 25. WAP TO PRINT MULTIPLICATION TABLE CODE"
   ]
  },
  {
   "cell_type": "code",
   "execution_count": 19,
   "id": "fab14128",
   "metadata": {},
   "outputs": [
    {
     "name": "stdout",
     "output_type": "stream",
     "text": [
      "show the multiplication table of? 5\n",
      "5 x 1 = 5\n",
      "5 x 2 = 10\n",
      "5 x 3 = 15\n",
      "5 x 4 = 20\n",
      "5 x 5 = 25\n",
      "5 x 6 = 30\n",
      "5 x 7 = 35\n",
      "5 x 8 = 40\n",
      "5 x 9 = 45\n",
      "5 x 10 = 50\n"
     ]
    }
   ],
   "source": [
    "a=int(input(\"show the multiplication table of? \"))\n",
    "\n",
    "for i in range(1,11):\n",
    "      print(a, \"x\", i, \"=\", a*i)"
   ]
  },
  {
   "cell_type": "markdown",
   "id": "d94bf61f",
   "metadata": {},
   "source": [
    "# 26. WAP TO PRINT OPPOSITE RIGHT ANGLE TRIANGLE"
   ]
  },
  {
   "cell_type": "code",
   "execution_count": 26,
   "id": "773cd71c",
   "metadata": {},
   "outputs": [
    {
     "name": "stdout",
     "output_type": "stream",
     "text": [
      "enter the number rows5\n",
      "*****\n",
      "****\n",
      "***\n",
      "**\n",
      "*\n"
     ]
    }
   ],
   "source": [
    "num=int(input(\"enter the number rows\"))\n",
    "\n",
    "for i in range(num,0,-1): \n",
    "    for j in range (0,i):\n",
    "        print(\"*\",end=\"\")\n",
    "\n",
    "    print()"
   ]
  },
  {
   "cell_type": "markdown",
   "id": "d0c63255",
   "metadata": {},
   "source": [
    "# 27. WAP TO PRINT 1,22,333,4444"
   ]
  },
  {
   "cell_type": "code",
   "execution_count": 27,
   "id": "0b2cc910",
   "metadata": {},
   "outputs": [
    {
     "name": "stdout",
     "output_type": "stream",
     "text": [
      "enter the no of rows:5\n",
      "1\n",
      "22\n",
      "333\n",
      "4444\n",
      "55555\n"
     ]
    }
   ],
   "source": [
    "n=int(input(\"enter the no of rows:\"))\n",
    "\n",
    "for i in range(1,n+1):\n",
    "    for j in range(1,i+1):\n",
    "        print(i,end=\"\")\n",
    "\n",
    "    print()"
   ]
  },
  {
   "cell_type": "markdown",
   "id": "9b66831f",
   "metadata": {},
   "source": [
    "# 28. WAP TO PRINT STAR PATTERN OF OPPOSITE TRIANGLE"
   ]
  },
  {
   "cell_type": "code",
   "execution_count": 29,
   "id": "6a9bbf9c",
   "metadata": {},
   "outputs": [
    {
     "name": "stdout",
     "output_type": "stream",
     "text": [
      "enter the number rows5\n",
      "     *\n",
      "    **\n",
      "   ***\n",
      "  ****\n",
      " *****\n"
     ]
    }
   ],
   "source": [
    "num=int(input(\"enter the number rows\"))\n",
    "\n",
    "for i in range (0,num):\n",
    "    for j in range (0, num-i):\n",
    "        print(\" \",end=\"\")\n",
    "\n",
    "    for k in range(0,i+1):\n",
    "        print(\"*\",end=\"\")\n",
    "\n",
    "    print(\"\")"
   ]
  },
  {
   "cell_type": "markdown",
   "id": "ec9feb86",
   "metadata": {},
   "source": [
    "# 29. WAP TO PRINT PATTERN 1,12,123"
   ]
  },
  {
   "cell_type": "code",
   "execution_count": 31,
   "id": "ccc951d0",
   "metadata": {},
   "outputs": [
    {
     "name": "stdout",
     "output_type": "stream",
     "text": [
      "enter the no of rows:5\n",
      "1\n",
      "12\n",
      "123\n",
      "1234\n",
      "12345\n"
     ]
    }
   ],
   "source": [
    "n=int(input(\"enter the no of rows:\"))\n",
    "\n",
    "for i in range(1,n+1):\n",
    "    for j in range(1,i+1):\n",
    "        print(j,end=\"\")\n",
    "\n",
    "    print()"
   ]
  },
  {
   "cell_type": "markdown",
   "id": "723fb287",
   "metadata": {},
   "source": [
    "# 30. WAP TO PRINT FIBONACCI SERIES USE WHILE LOOP"
   ]
  },
  {
   "cell_type": "code",
   "execution_count": 33,
   "id": "1d1704ec",
   "metadata": {},
   "outputs": [
    {
     "name": "stdout",
     "output_type": "stream",
     "text": [
      "enter the range5\n",
      "0\n",
      "1\n",
      "1\n",
      "2\n",
      "3\n"
     ]
    }
   ],
   "source": [
    "a-eval (input(\"enter the range\"))\n",
    "\n",
    "i=0\n",
    "\n",
    "first_value = 0\n",
    "\n",
    "second_value= 1\n",
    "\n",
    "while (i<a):\n",
    "    if(i<=1):\n",
    "        Next =i\n",
    "\n",
    "    else:\n",
    "        Next = first_value + second_value\n",
    "\n",
    "        first_value = second_value\n",
    "\n",
    "        second_value = Next\n",
    "\n",
    "    print (Next)\n",
    "\n",
    "    i=i+1"
   ]
  },
  {
   "cell_type": "markdown",
   "id": "a341f663",
   "metadata": {},
   "source": [
    "# 31. WAP TO PRINT FIBONACCI SERIES USE FOR LOOP"
   ]
  },
  {
   "cell_type": "code",
   "execution_count": 1,
   "id": "73405047",
   "metadata": {},
   "outputs": [
    {
     "name": "stdout",
     "output_type": "stream",
     "text": [
      "enter the range5\n",
      "0\n",
      "1\n",
      "1\n",
      "2\n",
      "3\n"
     ]
    }
   ],
   "source": [
    "number=int(input(\"enter the range\"))\n",
    "\n",
    "first_value=0\n",
    "\n",
    "second_value=1\n",
    "\n",
    "for num in range(0, number):\n",
    "    if (num<=1):\n",
    "        NEXT=num\n",
    "\n",
    "    else:\n",
    "        NEXT=first_value + second_value\n",
    "\n",
    "        first_value=second_value\n",
    "\n",
    "        second_value=NEXT\n",
    "\n",
    "    print (NEXT)"
   ]
  },
  {
   "cell_type": "markdown",
   "id": "06bf9a33",
   "metadata": {},
   "source": [
    "# 32. WAP TO PRINT PATTERN A, AB, ABC"
   ]
  },
  {
   "cell_type": "code",
   "execution_count": 3,
   "id": "fa352869",
   "metadata": {},
   "outputs": [
    {
     "name": "stdout",
     "output_type": "stream",
     "text": [
      "enter a character a\n",
      "A\n",
      "AB\n",
      "ABC\n",
      "ABCD\n",
      "ABCDE\n",
      "ABCDEF\n",
      "ABCDEFG\n",
      "ABCDEFGH\n",
      "ABCDEFGHI\n",
      "ABCDEFGHIJ\n",
      "ABCDEFGHIJK\n",
      "ABCDEFGHIJKL\n",
      "ABCDEFGHIJKLM\n",
      "ABCDEFGHIJKLMN\n",
      "ABCDEFGHIJKLMNO\n",
      "ABCDEFGHIJKLMNOP\n",
      "ABCDEFGHIJKLMNOPQ\n",
      "ABCDEFGHIJKLMNOPQR\n",
      "ABCDEFGHIJKLMNOPQRS\n",
      "ABCDEFGHIJKLMNOPQRST\n",
      "ABCDEFGHIJKLMNOPQRSTU\n",
      "ABCDEFGHIJKLMNOPQRSTUV\n",
      "ABCDEFGHIJKLMNOPQRSTUVW\n",
      "ABCDEFGHIJKLMNOPQRSTUVWX\n",
      "ABCDEFGHIJKLMNOPQRSTUVWXY\n",
      "ABCDEFGHIJKLMNOPQRSTUVWXYZ\n",
      "ABCDEFGHIJKLMNOPQRSTUVWXYZ[\n",
      "ABCDEFGHIJKLMNOPQRSTUVWXYZ[\\\n",
      "ABCDEFGHIJKLMNOPQRSTUVWXYZ[\\]\n",
      "ABCDEFGHIJKLMNOPQRSTUVWXYZ[\\]^\n",
      "ABCDEFGHIJKLMNOPQRSTUVWXYZ[\\]^_\n",
      "ABCDEFGHIJKLMNOPQRSTUVWXYZ[\\]^_`\n",
      "ABCDEFGHIJKLMNOPQRSTUVWXYZ[\\]^_`a\n"
     ]
    }
   ],
   "source": [
    "ch=str(input(\"enter a character \"))\n",
    "\n",
    "a=ord (ch)\n",
    "\n",
    "for x in range(65,a+1):\n",
    "    for c in range (65,x+1):\n",
    "        print(chr(c), end=\"\")\n",
    "\n",
    "    print(\"\")"
   ]
  },
  {
   "cell_type": "markdown",
   "id": "730e6519",
   "metadata": {},
   "source": [
    "# 33. WAP TO CALCULATION OF Xth BY FOR LOOP"
   ]
  },
  {
   "cell_type": "code",
   "execution_count": 4,
   "id": "5733615b",
   "metadata": {},
   "outputs": [
    {
     "name": "stdout",
     "output_type": "stream",
     "text": [
      "enter no 4\n",
      "enter power 5\n",
      "1024\n"
     ]
    }
   ],
   "source": [
    "x=int(input(\"enter no \"))\n",
    "\n",
    "b=int(input(\"enter power \"))\n",
    "\n",
    "y=x\n",
    "\n",
    "for a in range(0,b-1):\n",
    "    y=x*y\n",
    "\n",
    "print (y)"
   ]
  },
  {
   "cell_type": "markdown",
   "id": "dd4dac63",
   "metadata": {},
   "source": [
    "# 34. WAP TO PRINT THE INTEGER IS PALINDROME OR NOT PALINDROME"
   ]
  },
  {
   "cell_type": "code",
   "execution_count": 6,
   "id": "ab66f98a",
   "metadata": {},
   "outputs": [
    {
     "name": "stdout",
     "output_type": "stream",
     "text": [
      "enter number121\n",
      "the number is palindrome\n"
     ]
    }
   ],
   "source": [
    "n=int(input(\"enter number\"))\n",
    "\n",
    "x=n\n",
    "\n",
    "r=0\n",
    "\n",
    "while n>0:\n",
    "    d=n%10\n",
    "\n",
    "    r=r*10+d\n",
    "\n",
    "    n=n//10\n",
    "\n",
    "if x==r:\n",
    "    print(\"the number is palindrome\")\n",
    "\n",
    "else:\n",
    "    print(\"the number is not palindrome\")"
   ]
  },
  {
   "cell_type": "markdown",
   "id": "20f4331e",
   "metadata": {},
   "source": [
    "# 35. WAP TO PRINT FACTORIAL OF LIST"
   ]
  },
  {
   "cell_type": "code",
   "execution_count": 11,
   "id": "6ed29340",
   "metadata": {},
   "outputs": [
    {
     "name": "stdout",
     "output_type": "stream",
     "text": [
      "enter the element of list 7\n",
      "do you want to enter more element :Y\n",
      "enter the element of list 9\n",
      "do you want to enter more element :N\n",
      "the list is: [7, 9]\n",
      "the factorial of each element is: [5040, 362880]\n"
     ]
    }
   ],
   "source": [
    "a=[]\n",
    "\n",
    "fact=[]\n",
    "\n",
    "ch=\"y\"\n",
    "\n",
    "while ch==\"y\" or ch==\"Y\":\n",
    "        item=int(input(\"enter the element of list \"))\n",
    "        a.append(item)\n",
    "        ch=input(\"do you want to enter more element :\")\n",
    "\n",
    "print(\"the list is:\",a)\n",
    "\n",
    "for i in a:\n",
    "    f=1\n",
    "\n",
    "    for j in range(1,i+1):\n",
    "        f=f*j\n",
    "\n",
    "    fact.append(f)\n",
    "\n",
    "print(\"the factorial of each element is:\", fact)"
   ]
  },
  {
   "cell_type": "markdown",
   "id": "adfccf1e",
   "metadata": {},
   "source": [
    "# 36. WAP TO PRINT PASCAL TRIANGLE"
   ]
  },
  {
   "cell_type": "code",
   "execution_count": 14,
   "id": "114476d0",
   "metadata": {},
   "outputs": [
    {
     "name": "stdout",
     "output_type": "stream",
     "text": [
      "enter rows 5\n",
      "    * \n",
      "   * * \n",
      "  * * * \n",
      " * * * * \n",
      "* * * * * \n"
     ]
    }
   ],
   "source": [
    "n=int(input(\"enter rows \"))\n",
    "\n",
    "for i in range(0,n):\n",
    "    for j in range(0,n-i-1):\n",
    "        print (end=\" \")\n",
    "\n",
    "    for j in range(0,i+1):\n",
    "        print(\"*\",end=\" \")\n",
    "\n",
    "    print()"
   ]
  },
  {
   "cell_type": "markdown",
   "id": "334904fb",
   "metadata": {},
   "source": [
    "# 37. WAP TO CREATE A LIST OF VALUES INPUTTED BY USER"
   ]
  },
  {
   "cell_type": "code",
   "execution_count": 15,
   "id": "37c786c4",
   "metadata": {},
   "outputs": [
    {
     "name": "stdout",
     "output_type": "stream",
     "text": [
      "enter limit4\n",
      "enter element 65\n",
      "enter element 32\n",
      "enter element 82\n",
      "enter element 62\n",
      "[65, 32, 82, 62]\n"
     ]
    }
   ],
   "source": [
    "a=eval (input(\"enter limit\"))\n",
    "\n",
    "n=[]\n",
    "\n",
    "for a in range(1,a+1):\n",
    "    a=eval (input (\"enter element \"))\n",
    "\n",
    "    n.append(a)\n",
    "\n",
    "print (n)"
   ]
  },
  {
   "cell_type": "markdown",
   "id": "8a73815c",
   "metadata": {},
   "source": [
    "# 38. WAP TO CREATE A LIST OF VALUES INPUTTED BY USER AND SORT IN INCREASING ORDER"
   ]
  },
  {
   "cell_type": "code",
   "execution_count": 20,
   "id": "00afe08c",
   "metadata": {},
   "outputs": [
    {
     "name": "stdout",
     "output_type": "stream",
     "text": [
      "enter limit3\n",
      "enter element 52\n",
      "enter element 12\n",
      "enter element 96\n",
      "[52, 12, 96]\n",
      "after sorting the list is \n",
      "[12, 52, 96]\n"
     ]
    }
   ],
   "source": [
    "a=eval (input(\"enter limit\"))\n",
    "\n",
    "lst=[]\n",
    "\n",
    "for a in range(1,a+1):\n",
    "    a=eval (input(\"enter element \"))\n",
    "\n",
    "    lst.append(a)\n",
    "\n",
    "print (lst)\n",
    "\n",
    "l=len (lst)\n",
    "\n",
    "for i in range (1):\n",
    "    for j in range(0,l-i-1):\n",
    "        if lst[j]>lst[j+1]:\n",
    "            temp=lst[j]\n",
    "\n",
    "            lst[j]=lst[j+1]\n",
    "\n",
    "            lst[j+1]=temp\n",
    "\n",
    "print(\"after sorting the list is \")\n",
    "\n",
    "print (lst)"
   ]
  },
  {
   "cell_type": "markdown",
   "id": "f43633de",
   "metadata": {},
   "source": [
    "# 39. SORTING IN ASCENDING ORDER USE BUBBLE SORT"
   ]
  },
  {
   "cell_type": "code",
   "execution_count": 21,
   "id": "34f2151c",
   "metadata": {},
   "outputs": [
    {
     "name": "stdout",
     "output_type": "stream",
     "text": [
      "enter limit3\n",
      "enter element 5\n",
      "enter element 2\n",
      "enter element 1\n",
      "[5, 2, 1]\n",
      "after sorting the list is \n",
      "[2, 1, 5]\n"
     ]
    }
   ],
   "source": [
    "a=eval (input(\"enter limit\"))\n",
    "\n",
    "lst=[]\n",
    "\n",
    "for a in range(1,a+1):\n",
    "    a=eval (input(\"enter element \"))\n",
    "\n",
    "    lst.append(a)\n",
    "\n",
    "print (lst)\n",
    "\n",
    "l=len (lst)\n",
    "\n",
    "for i in range (1):\n",
    "    for j in range(0,l-i-1):\n",
    "        if lst[j]>lst[j+1]:\n",
    "            temp=lst[j]\n",
    "\n",
    "            lst[j]=lst[j+1]\n",
    "\n",
    "            lst[j+1]=temp\n",
    "\n",
    "print(\"after sorting the list is \")\n",
    "\n",
    "print (lst)"
   ]
  },
  {
   "cell_type": "markdown",
   "id": "a641fa70",
   "metadata": {},
   "source": [
    "# 40. WAP in PYTHON TO CREATE A PHONE DICTIONARY"
   ]
  },
  {
   "cell_type": "code",
   "execution_count": 24,
   "id": "57c9ecbd",
   "metadata": {},
   "outputs": [
    {
     "name": "stdout",
     "output_type": "stream",
     "text": [
      "enter limit2\n",
      "enter mobile number 1236547891\n",
      "enter name Tanu\n",
      "enter mobile number 7896541237\n",
      "enter name Krishna\n",
      "{1236547891: 'Tanu', 7896541237: 'Krishna'}\n",
      "enter the no to search in dictionary 1236547891\n",
      "the name of person is  Tanu\n"
     ]
    }
   ],
   "source": [
    "n=int(input(\"enter limit\"))\n",
    "\n",
    "m={}\n",
    "\n",
    "mob=0\n",
    "\n",
    "name=\"\"\n",
    "\n",
    "i=0\n",
    "\n",
    "for i in range(0,n):\n",
    "    mob=int (input(\"enter mobile number \"))\n",
    "\n",
    "    name=str (input(\"enter name \"))\n",
    "\n",
    "    z2=dict ({mob:name})\n",
    "\n",
    "    m.update (z2)\n",
    "\n",
    "print (m)\n",
    "\n",
    "n=int(input(\"enter the no to search in dictionary \"))\n",
    "\n",
    "print(\"the name of person is \",m[n])"
   ]
  },
  {
   "cell_type": "markdown",
   "id": "1b9e5bef",
   "metadata": {},
   "source": [
    "# 41. WAP TO FIND GIVEN NUMBER IS PRIME OR NOT"
   ]
  },
  {
   "cell_type": "code",
   "execution_count": 25,
   "id": "1178d547",
   "metadata": {},
   "outputs": [
    {
     "name": "stdout",
     "output_type": "stream",
     "text": [
      "enter number 5\n",
      "5 is prime number\n"
     ]
    }
   ],
   "source": [
    "num=int(input(\"enter number \"))\n",
    "\n",
    "lim=int(num/2)+1\n",
    "\n",
    "for i in range(2,lim):\n",
    "    rem=num%i\n",
    "\n",
    "    if rem==0:\n",
    "        print (num, \"is not prime number\")\n",
    "\n",
    "        break\n",
    "\n",
    "else:\n",
    "    print(num, \"is prime number\")"
   ]
  },
  {
   "cell_type": "markdown",
   "id": "26d0b2ce",
   "metadata": {},
   "source": [
    "# 42. WAP TO FIND GIVEN NUMBER IS EVEN OR ODD"
   ]
  },
  {
   "cell_type": "code",
   "execution_count": 26,
   "id": "ba444865",
   "metadata": {},
   "outputs": [
    {
     "name": "stdout",
     "output_type": "stream",
     "text": [
      "enter number 2\n",
      "2 is even number \n"
     ]
    }
   ],
   "source": [
    "a=int(input(\"enter number \"))\n",
    "\n",
    "r=a%2\n",
    "\n",
    "if r==0:\n",
    "    print(a, \"is even number \")\n",
    "\n",
    "elif r>0:\n",
    "    print(a, \"is odd number \")\n",
    "\n",
    "else: \n",
    "    print(\"you enter a number 0 or less than 0\")"
   ]
  },
  {
   "cell_type": "markdown",
   "id": "fbd4fa66",
   "metadata": {},
   "source": [
    "# 43. WAP TO CREATE A TUPLE OF VALUES INPUTED BY USER"
   ]
  },
  {
   "cell_type": "code",
   "execution_count": 27,
   "id": "f400116f",
   "metadata": {},
   "outputs": [
    {
     "name": "stdout",
     "output_type": "stream",
     "text": [
      "enter limit 5\n",
      "enter element 25\n",
      "enter element 45\n",
      "enter element 62\n",
      "enter element 13\n",
      "enter element 7\n",
      "tuple is (25, 45, 62, 13, 7)\n"
     ]
    }
   ],
   "source": [
    "a=()\n",
    "\n",
    "l=[]\n",
    "\n",
    "n=int(input(\"enter limit \"))\n",
    "\n",
    "for i in range(0,n):\n",
    "    item=int(input(\"enter element \"))\n",
    "\n",
    "    l.append(item)\n",
    "\n",
    "a=a+tuple (l)\n",
    "\n",
    "print(\"tuple is\", a)"
   ]
  },
  {
   "cell_type": "markdown",
   "id": "f32ae197",
   "metadata": {},
   "source": [
    "# 44. WAP TO REVESRSE AN INTEGER"
   ]
  },
  {
   "cell_type": "code",
   "execution_count": 28,
   "id": "e8e70794",
   "metadata": {},
   "outputs": [
    {
     "name": "stdout",
     "output_type": "stream",
     "text": [
      "enter the integer 123568\n",
      "the reversed integer is: 865321\n"
     ]
    }
   ],
   "source": [
    "n=int(input(\"enter the integer \"))\n",
    "\n",
    "x=n\n",
    "\n",
    "r=0\n",
    "\n",
    "while n>0:\n",
    "    d=n%10\n",
    "\n",
    "    r=r*10+d\n",
    "\n",
    "    n=n//10\n",
    "\n",
    "print(\"the reversed integer is:\",r)"
   ]
  }
 ],
 "metadata": {
  "kernelspec": {
   "display_name": "Python 3 (ipykernel)",
   "language": "python",
   "name": "python3"
  },
  "language_info": {
   "codemirror_mode": {
    "name": "ipython",
    "version": 3
   },
   "file_extension": ".py",
   "mimetype": "text/x-python",
   "name": "python",
   "nbconvert_exporter": "python",
   "pygments_lexer": "ipython3",
   "version": "3.9.12"
  }
 },
 "nbformat": 4,
 "nbformat_minor": 5
}
