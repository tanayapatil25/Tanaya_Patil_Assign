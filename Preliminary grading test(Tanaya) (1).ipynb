{
 "cells": [
  {
   "cell_type": "markdown",
   "id": "0e28cda8",
   "metadata": {},
   "source": [
    "Q1."
   ]
  },
  {
   "cell_type": "code",
   "execution_count": 6,
   "id": "6afe5cb1",
   "metadata": {},
   "outputs": [
    {
     "name": "stdout",
     "output_type": "stream",
     "text": [
      "Weird\n"
     ]
    }
   ],
   "source": [
    "n = 3\n",
    "if n % 2 != 0:\n",
    "    print(\"Weird\")\n",
    "else:\n",
    "    if 2 <= n <= 5:\n",
    "        print(\"Not Weird\")\n",
    "    elif 6 <= n <= 20:\n",
    "        print(\"Weird\")\n",
    "    elif n > 20:\n",
    "        print(\"Not Weird\")\n"
   ]
  },
  {
   "cell_type": "markdown",
   "id": "04e5a343",
   "metadata": {},
   "source": [
    "Q2."
   ]
  },
  {
   "cell_type": "code",
   "execution_count": 19,
   "id": "ac596d26",
   "metadata": {},
   "outputs": [
    {
     "name": "stdout",
     "output_type": "stream",
     "text": [
      "[0, 1, 2]\n",
      "0\n",
      "1\n",
      "4\n"
     ]
    }
   ],
   "source": [
    "li = list(range(3))\n",
    "print(li)\n",
    "for i in li:\n",
    "    print(i*i)"
   ]
  },
  {
   "cell_type": "markdown",
   "id": "62a5ca74",
   "metadata": {},
   "source": [
    "Q3."
   ]
  },
  {
   "cell_type": "code",
   "execution_count": null,
   "id": "d4d93285",
   "metadata": {},
   "outputs": [],
   "source": [
    "x, y, z, n = 2, 2, 2, 3\n",
    "\n",
    "lst = [[i, j, k] for i in range(x + 1) for j in range(y + 1) for k in range(z + 1) if i + j + k != n]\n",
    "\n",
    "print(lst)\n"
   ]
  },
  {
   "cell_type": "markdown",
   "id": "ee9d4963",
   "metadata": {},
   "source": [
    "Q4."
   ]
  },
  {
   "cell_type": "code",
   "execution_count": 29,
   "id": "0eb1ee02",
   "metadata": {},
   "outputs": [
    {
     "name": "stdout",
     "output_type": "stream",
     "text": [
      "[6, 6, 5, 3, 2]\n",
      "5\n"
     ]
    }
   ],
   "source": [
    "scores = [2, 3, 6, 6, 5]\n",
    "sorted_score = sorted(scores,reverse=True)\n",
    "print(sorted_score)\n",
    "max_score=max(sorted_score)\n",
    "sorted_score.remove(max_score)\n",
    "sorted_score.remove(max_score)\n",
    "print(max(sorted_score))"
   ]
  },
  {
   "cell_type": "markdown",
   "id": "62323ab9",
   "metadata": {},
   "source": [
    "Q5."
   ]
  },
  {
   "cell_type": "code",
   "execution_count": 36,
   "id": "85be81bd",
   "metadata": {},
   "outputs": [
    {
     "name": "stdout",
     "output_type": "stream",
     "text": [
      "The average of the marks array for alpha is 30.00\n",
      "The average of the marks array for beta is 50.00\n"
     ]
    }
   ],
   "source": [
    "marks = {\n",
    "    'alpha': [20, 30, 40],\n",
    "    'beta': [30, 50, 70]\n",
    "}\n",
    "\n",
    "student_name = 'alpha'\n",
    "\n",
    "average = sum(marks[student_name]) / len(marks[student_name])\n",
    "\n",
    "\n",
    "print(f\"The average of the marks array for {student_name} is {average:.2f}\")\n",
    "\n",
    "student_name = 'beta'\n",
    "\n",
    "average = sum(marks[student_name]) / len(marks[student_name])\n",
    "\n",
    "\n",
    "print(f\"The average of the marks array for {student_name} is {average:.2f}\")\n"
   ]
  },
  {
   "cell_type": "markdown",
   "id": "6ee9a2b7",
   "metadata": {},
   "source": [
    "Q6."
   ]
  },
  {
   "cell_type": "code",
   "execution_count": 39,
   "id": "9c0a8028",
   "metadata": {},
   "outputs": [
    {
     "name": "stdout",
     "output_type": "stream",
     "text": [
      "t\n",
      "A\n",
      "n\n",
      "A\n",
      "y\n",
      "A\n"
     ]
    }
   ],
   "source": [
    "str = 'TaNaYa'\n",
    "for i in str:\n",
    "    if i.isupper():\n",
    "        print(i.lower())\n",
    "    else:\n",
    "        print(i.upper())\n"
   ]
  },
  {
   "cell_type": "markdown",
   "id": "4865a2e9",
   "metadata": {},
   "source": [
    "Q7."
   ]
  },
  {
   "cell_type": "code",
   "execution_count": 92,
   "id": "252d8ed4",
   "metadata": {},
   "outputs": [
    {
     "name": "stdout",
     "output_type": "stream",
     "text": [
      "Good-Morning-All\n"
     ]
    }
   ],
   "source": [
    "string = \"Good Morning All\"\n",
    "hyphen_string = \"-\".join(string.split())\n",
    "\n",
    "print(hyphen_string)\n"
   ]
  },
  {
   "cell_type": "markdown",
   "id": "21f6cf9d",
   "metadata": {},
   "source": [
    "Q8."
   ]
  },
  {
   "cell_type": "code",
   "execution_count": 42,
   "id": "48cee725",
   "metadata": {},
   "outputs": [
    {
     "name": "stdout",
     "output_type": "stream",
     "text": [
      "The substring 'is' occurs 1 times in the string 'Good Morning All, today is monday'\n"
     ]
    }
   ],
   "source": [
    "string = \"Good Morning All, today is monday\"\n",
    "substring = \"is\"\n",
    "\n",
    "count = string.count(substring)\n",
    "\n",
    "print(f\"The substring '{substring}' occurs {count} times in the string '{string}'\")\n"
   ]
  },
  {
   "cell_type": "markdown",
   "id": "0504c856",
   "metadata": {},
   "source": [
    "Q9."
   ]
  },
  {
   "cell_type": "code",
   "execution_count": 44,
   "id": "9735d048",
   "metadata": {},
   "outputs": [
    {
     "name": "stdout",
     "output_type": "stream",
     "text": [
      "String: Good Morning All, today is monday\n",
      "Contains alphanumeric characters: True\n",
      "Contains alphabetical characters: True\n",
      "Contains digits: False\n",
      "Contains lowercase characters: True\n",
      "Contains uppercase characters: True\n"
     ]
    }
   ],
   "source": [
    "s = \"Good Morning All, today is monday\"\n",
    "\n",
    "print(f\"String: {s}\")\n",
    "print(f\"Contains alphanumeric characters: {any(c.isalnum() for c in s)}\")\n",
    "print(f\"Contains alphabetical characters: {any(c.isalpha() for c in s)}\")\n",
    "print(f\"Contains digits: {any(c.isdigit() for c in s)}\")\n",
    "print(f\"Contains lowercase characters: {any(c.islower() for c in s)}\")\n",
    "print(f\"Contains uppercase characters: {any(c.isupper() for c in s)}\")\n"
   ]
  },
  {
   "cell_type": "markdown",
   "id": "3593e7c7",
   "metadata": {},
   "source": [
    "Q10."
   ]
  },
  {
   "cell_type": "code",
   "execution_count": 91,
   "id": "97b69c7d",
   "metadata": {},
   "outputs": [
    {
     "name": "stdout",
     "output_type": "stream",
     "text": [
      "The string contains characters other than a-z, A-Z, and 0-9.\n"
     ]
    }
   ],
   "source": [
    "string = \"The quick brown fox jumps over the 123 lazy dog\"\n",
    "allowed_chars = set(\"abcdefghijklmnopqrstuvwxyzABCDEFGHIJKLMNOPQRSTUVWXYZ0123456789\")\n",
    "if set(string) <= allowed_chars:\n",
    "    print(\"The string contains only a-z, A-Z, and 0-9.\")\n",
    "else:\n",
    "    print(\"The string contains characters other than a-z, A-Z, and 0-9.\")"
   ]
  },
  {
   "cell_type": "markdown",
   "id": "e325c563",
   "metadata": {},
   "source": [
    "Q11."
   ]
  },
  {
   "cell_type": "code",
   "execution_count": 86,
   "id": "3ae86928",
   "metadata": {},
   "outputs": [
    {
     "name": "stdout",
     "output_type": "stream",
     "text": [
      "The following words were found in the string: ['ab', 'abb', 'abbb', 'abbbb']\n"
     ]
    }
   ],
   "source": [
    "string = \"ab abb abbb ac abbbb\"\n",
    "found_words = []\n",
    "words = string.split()\n",
    "for word in words:\n",
    "    if len(word) >= 2 and word[0] == \"a\" and all(c == \"b\" for c in word[1:]):\n",
    "        found_words.append(word)\n",
    "\n",
    "if found_words:\n",
    "    print(f\"The following words were found in the string: {found_words}\")\n",
    "else:\n",
    "    print(\"None of the searched words were found in the string.\")\n"
   ]
  },
  {
   "cell_type": "markdown",
   "id": "fb26b6c8",
   "metadata": {},
   "source": [
    "Q12."
   ]
  },
  {
   "cell_type": "code",
   "execution_count": 85,
   "id": "a2d08aea",
   "metadata": {},
   "outputs": [
    {
     "name": "stdout",
     "output_type": "stream",
     "text": [
      "The following words were found in the string: ['ab', 'abb', 'abbb', 'abbbb']\n"
     ]
    }
   ],
   "source": [
    "string = \"ab abb abbb ac abbbb\"\n",
    "found_words = []\n",
    "words = string.split()\n",
    "for word in words:\n",
    "    if len(word) >= 2 and word[0] == \"a\" and word[1:].count(\"b\") >= 1:\n",
    "        found_words.append(word)\n",
    "\n",
    "if found_words:\n",
    "    print(f\"The following words were found in the string: {found_words}\")\n",
    "else:\n",
    "    print(\"None of the searched words were found in the string.\")\n"
   ]
  },
  {
   "cell_type": "markdown",
   "id": "43798e6e",
   "metadata": {},
   "source": [
    "Q13. "
   ]
  },
  {
   "cell_type": "code",
   "execution_count": 89,
   "id": "267133b1",
   "metadata": {},
   "outputs": [
    {
     "name": "stdout",
     "output_type": "stream",
     "text": [
      "None of the searched words were found in the string.\n"
     ]
    }
   ],
   "source": [
    "string = \"ab abbabbbac abbbb\"\n",
    "found_words = []\n",
    "words = string.split()\n",
    "for word in words:\n",
    "    if len(word) == 4 and word[0] == \"a\" and word[1:].count(\"b\") == 3:\n",
    "        found_words.append(word)\n",
    "\n",
    "if found_words:\n",
    "    print(f\"The following words were found in the string: {found_words}\")\n",
    "else:\n",
    "    print(\"None of the searched words were found in the string.\")\n"
   ]
  },
  {
   "cell_type": "markdown",
   "id": "93954c96",
   "metadata": {},
   "source": [
    "Q14."
   ]
  },
  {
   "cell_type": "code",
   "execution_count": 88,
   "id": "615b5476",
   "metadata": {},
   "outputs": [
    {
     "name": "stdout",
     "output_type": "stream",
     "text": [
      "The following words were found in the string: ['abb']\n"
     ]
    }
   ],
   "source": [
    "string = \"ab abb abbbb\"\n",
    "found_words = []\n",
    "words = string.split()\n",
    "for word in words:\n",
    "    if len(word) >= 2 and word[0] == \"a\" and word[1:].count(\"b\") in [2, 3]:\n",
    "        found_words.append(word)\n",
    "\n",
    "if found_words:\n",
    "    print(f\"The following words were found in the string: {found_words}\")\n",
    "else:\n",
    "    print(\"None of the searched words were found in the string.\")\n"
   ]
  },
  {
   "cell_type": "markdown",
   "id": "d3370a02",
   "metadata": {},
   "source": [
    "Q15."
   ]
  },
  {
   "cell_type": "code",
   "execution_count": 82,
   "id": "2a40b0c4",
   "metadata": {},
   "outputs": [
    {
     "name": "stdout",
     "output_type": "stream",
     "text": [
      "The following words were found in the string: ['how', 'are', 'you']\n"
     ]
    }
   ],
   "source": [
    "string = \"Good_Morning_All_how_are_you\"\n",
    "words = string.split(\"_\")\n",
    "found_words = []\n",
    "for word in words:\n",
    "    if word.islower():\n",
    "        found_words.append(word)\n",
    "\n",
    "if found_words:\n",
    "    print(f\"The following words were found in the string: {found_words}\")\n",
    "else:\n",
    "    print(\"None of the searched words were found in the string.\")\n"
   ]
  },
  {
   "cell_type": "markdown",
   "id": "7db0a903",
   "metadata": {},
   "source": [
    "Q16."
   ]
  },
  {
   "cell_type": "code",
   "execution_count": 80,
   "id": "d2741af8",
   "metadata": {},
   "outputs": [
    {
     "name": "stdout",
     "output_type": "stream",
     "text": [
      "The following words were found in the string: ['Good', 'Morning', 'All,']\n"
     ]
    }
   ],
   "source": [
    "string = \"Good Morning All, how are you\"\n",
    "words = string.split()\n",
    "found_words = []\n",
    "for word in words:\n",
    "    if len(word) > 1 and word[0].isupper() and word[1:].islower():\n",
    "        found_words.append(word)\n",
    "\n",
    "if found_words:\n",
    "    print(f\"The following words were found in the string: {found_words}\")\n",
    "else:\n",
    "    print(\"None of the searched words were found in the string.\")\n"
   ]
  },
  {
   "cell_type": "markdown",
   "id": "41bb2045",
   "metadata": {},
   "source": [
    "Q17."
   ]
  },
  {
   "cell_type": "code",
   "execution_count": 61,
   "id": "b52a0875",
   "metadata": {},
   "outputs": [
    {
     "name": "stdout",
     "output_type": "stream",
     "text": [
      "The string 'abcdb' matches the pattern.\n"
     ]
    }
   ],
   "source": [
    "s = \"abcdb\"\n",
    "if s.startswith('a') and s.endswith('b'):\n",
    "    print(f\"The string '{s}' matches the pattern.\")\n",
    "else:\n",
    "    print(f\"The string '{s}' does not match the pattern.\")\n"
   ]
  },
  {
   "cell_type": "markdown",
   "id": "3a7aec11",
   "metadata": {},
   "source": [
    "Q18."
   ]
  },
  {
   "cell_type": "code",
   "execution_count": 62,
   "id": "fd97735a",
   "metadata": {},
   "outputs": [
    {
     "name": "stdout",
     "output_type": "stream",
     "text": [
      "The word at the beginning of 'Good morning Everyone' is 'Good'.\n"
     ]
    }
   ],
   "source": [
    "s = \"Good morning Everyone\"\n",
    "words = s.split()\n",
    "if words:\n",
    "    print(f\"The word at the beginning of '{s}' is '{words[0]}'.\")\n",
    "else:\n",
    "    print(f\"No words found in '{s}'.\")\n"
   ]
  },
  {
   "cell_type": "markdown",
   "id": "6b23354e",
   "metadata": {},
   "source": [
    "Q19."
   ]
  },
  {
   "cell_type": "code",
   "execution_count": 63,
   "id": "8db32873",
   "metadata": {},
   "outputs": [
    {
     "name": "stdout",
     "output_type": "stream",
     "text": [
      "The string 'abcdb' matches the pattern.\n"
     ]
    }
   ],
   "source": [
    "s = \"abcdb\"\n",
    "if s[0] == 'a' and s[-1] == 'b':\n",
    "    print(f\"The string '{s}' matches the pattern.\")\n",
    "else:\n",
    "    print(f\"The string '{s}' does not match the pattern.\")\n"
   ]
  },
  {
   "cell_type": "markdown",
   "id": "33f5a8e1",
   "metadata": {},
   "source": [
    "Q20."
   ]
  },
  {
   "cell_type": "code",
   "execution_count": 68,
   "id": "965e4eab",
   "metadata": {},
   "outputs": [
    {
     "name": "stdout",
     "output_type": "stream",
     "text": [
      "The words containing 'z', not at the start or end of the word in 'This is zzzstring' are:\n",
      "zzzstring\n"
     ]
    }
   ],
   "source": [
    "s = \"This is zzzstring\"\n",
    "words = s.split()\n",
    "matches = []\n",
    "for word in words:\n",
    "    if 'z' in word[1:-1]:\n",
    "        matches.append(word)\n",
    "if matches:\n",
    "    print(f\"The words containing 'z', not at the start or end of the word in '{s}' are:\")\n",
    "    for match in matches:\n",
    "        print(match)\n",
    "else:\n",
    "    print(f\"No words containing 'z', not at the start or end of the word found in '{s}'.\")\n"
   ]
  },
  {
   "cell_type": "markdown",
   "id": "009dc6e9",
   "metadata": {},
   "source": [
    "Q21."
   ]
  },
  {
   "cell_type": "code",
   "execution_count": 69,
   "id": "fd8783d2",
   "metadata": {},
   "outputs": [
    {
     "name": "stdout",
     "output_type": "stream",
     "text": [
      "The string '52345861' starts with the number 5.\n"
     ]
    }
   ],
   "source": [
    "s = \"52345861\"\n",
    "if s.startswith('5'):\n",
    "    print(f\"The string '{s}' starts with the number 5.\")\n",
    "else:\n",
    "    print(f\"The string '{s}' does not start with the number 5.\")\n"
   ]
  },
  {
   "cell_type": "markdown",
   "id": "8b9a37ad",
   "metadata": {},
   "source": [
    "Q22."
   ]
  },
  {
   "cell_type": "code",
   "execution_count": 70,
   "id": "c7cf014e",
   "metadata": {},
   "outputs": [
    {
     "name": "stdout",
     "output_type": "stream",
     "text": [
      "The string 'good morning 64' ends with a number.\n"
     ]
    }
   ],
   "source": [
    "s = \"good morning 64\"\n",
    "if s[-1].isdigit():\n",
    "    print(f\"The string '{s}' ends with a number.\")\n",
    "else:\n",
    "    print(f\"The string '{s}' does not end with a number.\")\n"
   ]
  },
  {
   "cell_type": "markdown",
   "id": "0e01db6e",
   "metadata": {},
   "source": [
    "Q23."
   ]
  },
  {
   "cell_type": "code",
   "execution_count": null,
   "id": "8dd1566c",
   "metadata": {},
   "outputs": [],
   "source": []
  },
  {
   "cell_type": "markdown",
   "id": "ccb59cf3",
   "metadata": {},
   "source": [
    "Q24."
   ]
  },
  {
   "cell_type": "code",
   "execution_count": 72,
   "id": "3cbd1c30",
   "metadata": {},
   "outputs": [
    {
     "name": "stdout",
     "output_type": "stream",
     "text": [
      "The following words were found in the string: ['fox', 'dog']\n"
     ]
    }
   ],
   "source": [
    "string = \"The quick brown fox jumps over the lazy dog.\"\n",
    "searched_words = [\"fox\", \"dog\", \"horse\"]\n",
    "found_words = []\n",
    "for word in searched_words:\n",
    "    if word in string:\n",
    "        found_words.append(word)\n",
    "\n",
    "if found_words:\n",
    "    print(f\"The following words were found in the string: {found_words}\")\n",
    "else:\n",
    "    print(\"None of the searched words were found in the string.\")\n"
   ]
  },
  {
   "cell_type": "markdown",
   "id": "bada0308",
   "metadata": {},
   "source": [
    "Q25."
   ]
  },
  {
   "cell_type": "code",
   "execution_count": 73,
   "id": "3d4876a2",
   "metadata": {},
   "outputs": [
    {
     "name": "stdout",
     "output_type": "stream",
     "text": [
      "The pattern 'fox' was found in the string at index 16.\n"
     ]
    }
   ],
   "source": [
    "string = \"The quick brown fox jumps over the lazy dog.\"\n",
    "pattern = \"fox\"\n",
    "index = string.find(pattern)\n",
    "if index != -1:\n",
    "    print(f\"The pattern '{pattern}' was found in the string at index {index}.\")\n",
    "else:\n",
    "    print(f\"The pattern '{pattern}' was not found in the string.\")\n"
   ]
  },
  {
   "cell_type": "markdown",
   "id": "67cbf0be",
   "metadata": {},
   "source": [
    "Q26."
   ]
  },
  {
   "cell_type": "code",
   "execution_count": 74,
   "id": "d4b3125d",
   "metadata": {},
   "outputs": [
    {
     "name": "stdout",
     "output_type": "stream",
     "text": [
      "The following words were found in the string: ['exercises', 'exercises', 'exercises']\n"
     ]
    }
   ],
   "source": [
    "string = \"Python exercises, PHP exercises, C# exercises\"\n",
    "pattern = \"exercises\"\n",
    "found_words = []\n",
    "index = 0\n",
    "while index < len(string):\n",
    "    index = string.find(pattern, index)\n",
    "    if index == -1:\n",
    "        break\n",
    "    found_words.append(pattern)\n",
    "    index += len(pattern)\n",
    "\n",
    "if found_words:\n",
    "    print(f\"The following words were found in the string: {found_words}\")\n",
    "else:\n",
    "    print(\"None of the searched words were found in the string.\")\n"
   ]
  },
  {
   "cell_type": "markdown",
   "id": "ea56915b",
   "metadata": {},
   "source": [
    "Q27."
   ]
  },
  {
   "cell_type": "code",
   "execution_count": 75,
   "id": "cf29203e",
   "metadata": {},
   "outputs": [
    {
     "name": "stdout",
     "output_type": "stream",
     "text": [
      "The following words were found in the string:\n",
      "'exercises' found at index 7\n",
      "'exercises' found at index 22\n",
      "'exercises' found at index 36\n"
     ]
    }
   ],
   "source": [
    "string = \"Python exercises, PHP exercises, C# exercises\"\n",
    "pattern = \"exercises\"\n",
    "found_words = [(pattern, index) for index in range(len(string)) if string.startswith(pattern, index)]\n",
    "\n",
    "if found_words:\n",
    "    print(f\"The following words were found in the string:\")\n",
    "    for word, index in found_words:\n",
    "        print(f\"'{word}' found at index {index}\")\n",
    "else:\n",
    "    print(\"None of the searched words were found in the string.\")\n"
   ]
  },
  {
   "cell_type": "markdown",
   "id": "4e85fdab",
   "metadata": {},
   "source": [
    "Q28."
   ]
  },
  {
   "cell_type": "code",
   "execution_count": 76,
   "id": "ebd1b3e9",
   "metadata": {},
   "outputs": [
    {
     "name": "stdout",
     "output_type": "stream",
     "text": [
      "Preliminary_Grading_Test\n",
      "Preliminary Grading Test\n"
     ]
    }
   ],
   "source": [
    "text = 'Preliminary Grading Test'\n",
    "text = text.replace(\" \", \"_\")\n",
    "print(text)\n",
    "text = text.replace(\"_\", \" \")\n",
    "print(text)\n"
   ]
  },
  {
   "cell_type": "markdown",
   "id": "6e8b73dd",
   "metadata": {},
   "source": [
    "Q29."
   ]
  },
  {
   "cell_type": "code",
   "execution_count": null,
   "id": "a4bf2b87",
   "metadata": {},
   "outputs": [],
   "source": []
  },
  {
   "cell_type": "markdown",
   "id": "3a3a48ab",
   "metadata": {},
   "source": [
    "Q30."
   ]
  },
  {
   "cell_type": "code",
   "execution_count": 79,
   "id": "0ed62dc9",
   "metadata": {},
   "outputs": [
    {
     "name": "stdout",
     "output_type": "stream",
     "text": [
      "The original date is 2024-01-08 and the new date is 08-01-2024.\n"
     ]
    }
   ],
   "source": [
    "date = \"2024-01-08\"\n",
    "year, month, day = date.split(\"-\")\n",
    "new_date = f\"{day}-{month}-{year}\"\n",
    "print(f\"The original date is {date} and the new date is {new_date}.\")\n"
   ]
  }
 ],
 "metadata": {
  "kernelspec": {
   "display_name": "Python 3 (ipykernel)",
   "language": "python",
   "name": "python3"
  },
  "language_info": {
   "codemirror_mode": {
    "name": "ipython",
    "version": 3
   },
   "file_extension": ".py",
   "mimetype": "text/x-python",
   "name": "python",
   "nbconvert_exporter": "python",
   "pygments_lexer": "ipython3",
   "version": "3.9.12"
  }
 },
 "nbformat": 4,
 "nbformat_minor": 5
}
