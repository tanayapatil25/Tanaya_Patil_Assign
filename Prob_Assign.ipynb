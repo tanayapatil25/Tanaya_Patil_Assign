{
 "cells": [
  {
   "cell_type": "markdown",
   "id": "bf61a835",
   "metadata": {},
   "source": [
    "Q1. What is the probability of throwing one dice and getting the number greater than 4 ?"
   ]
  },
  {
   "cell_type": "raw",
   "id": "0d81730d",
   "metadata": {},
   "source": [
    "The probability of throwing one dice and getting a number greater than 4 is = 1/3.\n",
    "\n",
    "The possible outcomes when a die is rolled are 1, 2, 3, 4, 5, and 6. The numbers greater than 4 are 5 and 6. So, the number of favorable outcomes is 2 and the number of possible outcomes is 6. Therefore, the probability of getting a number greater than 4 is 2/6 or 1/3."
   ]
  },
  {
   "cell_type": "markdown",
   "id": "8fbfdcff",
   "metadata": {},
   "source": [
    "Q2. What is the probability of throwing two dice and getting the sum of the fallen numbers greater than 3 ?"
   ]
  },
  {
   "cell_type": "raw",
   "id": "295c3974",
   "metadata": {},
   "source": [
    "The probability of throwing two dice and getting the sum of the fallen numbers greater than 3 is 11/12.\n",
    "\n",
    "When two dice are thrown, the possible outcomes are 36. The sum of the numbers on the dice can range from 2 to 12. The numbers greater than 3 are 4, 5, 6, 7, 8, 9, 10, 11, and 12. So, the number of favorable outcomes is 30 and the number of possible outcomes is 36. Therefore, the probability of getting a sum greater than 3 is 30/36 or 5/6.\n",
    "\n",
    "probability of getting a sum greater than 3, which is the same as the probability of not getting a sum less than or equal to 3. The probability of getting a sum less than or equal to 3 is 3/36 or 1/12. Therefore, the probability of getting a sum greater than 3 is 1 - 1/12 or 11/12."
   ]
  },
  {
   "cell_type": "markdown",
   "id": "ee87ab1e",
   "metadata": {},
   "source": [
    "Q3. We select 7 playing cards out of 32. What is the probability that among the selected cards there are exactly three hearts ?"
   ]
  },
  {
   "cell_type": "raw",
   "id": "7c9ab14b",
   "metadata": {},
   "source": [
    "((13/3)*(19/4))/(32/7) = 17.6%\n",
    "\n",
    "Therefore, the probability of selecting exactly three hearts out of seven cards from a deck of 32 cards is approximately 17.6%."
   ]
  },
  {
   "cell_type": "markdown",
   "id": "74d0fec2",
   "metadata": {},
   "source": [
    "Q4. What is the probability of flipping a coin and getting the head fallen five times in a row ?"
   ]
  },
  {
   "cell_type": "raw",
   "id": "24f0e42f",
   "metadata": {},
   "source": [
    "The probability of flipping a coin and getting the head fallen five times in a row is calculated as follows:\n",
    "\n",
    "The probability of getting a head on a single flip of a fair coin is 1/2.\n",
    "Since each flip is independent, the probability of getting five heads in a row is (1/2) raised to the power of 5, which is equal to 1/32 or approximately 3.125%."
   ]
  },
  {
   "cell_type": "markdown",
   "id": "76697456",
   "metadata": {},
   "source": [
    "Q5. The customer wants to buy a bread and a can. There are 30 pieces of bread in the shop, including 5 from the previous day, and 20 cans with unreadable expiration date, of which one has expired. What is the probability that the customer will buy a fresh bread and a tin under warranty ?"
   ]
  },
  {
   "cell_type": "raw",
   "id": "0463b21f",
   "metadata": {},
   "source": [
    "The probability of buying a fresh bread and a tin under warranty can be calculated as follows:\n",
    "\n",
    "The probability of selecting a fresh bread is the ratio of the number of fresh breads to the total number of breads. Here, the number of fresh breads is 30 - 5 = 25 and the total number of breads is 30. Therefore, the probability of selecting a fresh bread is 25/30.\n",
    "The probability of selecting a tin under warranty is the ratio of the number of tins under warranty to the total number of tins. Here, the number of tins under warranty is 20 - 1 = 19 and the total number of tins is 20. Therefore, the probability of selecting a tin under warranty is 19/20.\n",
    "\n",
    "Since the selection of bread and tin are independent events, the probability of selecting a fresh bread and a tin under warranty is the product of the probabilities of selecting a fresh bread and a tin under warranty. Therefore, the probability of selecting a fresh bread and a tin under warranty is:\n",
    "\n",
    "25/30*19/20 = 0.63\n",
    "\n",
    "Therefore, the probability of the customer buying a fresh bread and a tin under warranty is approximately 63%."
   ]
  },
  {
   "cell_type": "markdown",
   "id": "bf9c91a1",
   "metadata": {},
   "source": [
    "Q6. Abstracted secretary placed three letters randomly into three envelopes. What is the probability that at least one of the recipients gets his letter ?"
   ]
  },
  {
   "cell_type": "raw",
   "id": "f74aad32",
   "metadata": {},
   "source": [
    "The problem of placing three letters randomly into three envelopes is a classic example of derangements. A derangement is a permutation of a set of objects such that none of the objects appear in their original position.\n",
    "The number of derangements of three letters is 2. Therefore, the probability that none of the recipients gets his letter is 1/2.\n",
    "The probability that at least one of the recipients gets his letter is the complement of the probability that none of the recipients gets his letter. Therefore, the probability that at least one of the recipients gets his letter is:\n",
    "1−frac12 = mathbf0.5\n",
    "Therefore, the probability that at least one of the recipients gets his letter is 50%."
   ]
  },
  {
   "cell_type": "markdown",
   "id": "43f52752",
   "metadata": {},
   "source": [
    "Q7. There are 10 pots exposed in the shop, 2 of which have hidden defects. The customer buys two pieces. What is the probability that at least one of them has a hidden bug ?"
   ]
  },
  {
   "cell_type": "raw",
   "id": "9d62c72b",
   "metadata": {},
   "source": [
    "The probability of buying two pots and at least one of them having a hidden bug can be calculated as follows:\n",
    "\n",
    "The probability of selecting two pots with no hidden bugs is the ratio of the number of pots with no hidden bugs to the total number of pots. Here, the number of pots with no hidden bugs is 10 - 2 = 8 and the total number of pots is 10. Therefore, the probability of selecting two pots with no hidden bugs is 8/10*7/9 = 28/45.\n",
    "The probability of selecting at least one pot with a hidden bug is the complement of the probability of selecting two pots with no hidden bugs. Therefore, the probability of selecting at least one pot with a hidden bug is 1−28/45 = 0.378.\n",
    "\n",
    "Therefore, the probability that the customer buys two pots and at least one of them has a hidden bug is approximately 37.8%."
   ]
  },
  {
   "cell_type": "markdown",
   "id": "f878fb38",
   "metadata": {},
   "source": [
    "Q8. What is the probability of throwing one dice seven times in a row and getting the number 6 fallen exactly 3 times ?"
   ]
  },
  {
   "cell_type": "raw",
   "id": "cd4d0f45",
   "metadata": {},
   "source": [
    "The probability of getting the number 6 exactly 3 times in 7 dice rolls can be calculated using the binomial distribution formula\n",
    "Here, X is the random variable representing the number of times the number 6 appears in 7 dice rolls, n is the number of trials (7), k is the number of successes (3), and p is the probability of success (1/6).\n",
    "Substituting the values, we get:\n",
    "P(X=3)=(7/3)(1/6)3(5/6)4 ≈ 0.1317\n",
    "Therefore, the probability of getting the number 6 exactly 3 times in 7 dice rolls is approximately 13.17%."
   ]
  },
  {
   "cell_type": "markdown",
   "id": "2fda646f",
   "metadata": {},
   "source": [
    "Q9. The test contains 10 questions, each one with available four different answers, among which just one is correct. To pass the test at least 5 questions must be answered correctly. What is the probability that completely unprepared student will pass the test ?"
   ]
  },
  {
   "cell_type": "raw",
   "id": "f53c39a5",
   "metadata": {},
   "source": [
    "To calculate the probability of a completely unprepared student passing the test, we can use the binomial distribution formula:\n",
    "P(X≥5)=k=5∑10(k10)(0.25)k(0.75)10−k\n",
    "Here, X is the random variable representing the number of questions answered correctly, k is the number of successes, and p is the probability of success (which is 1/4 since there are four answer choices and only one is correct).\n",
    "Therefore, the probability of a completely unprepared student passing the test is approximately 26.37%."
   ]
  },
  {
   "cell_type": "markdown",
   "id": "2a372a44",
   "metadata": {},
   "source": [
    "Q10. We have 100 tickets in the hat numbered from 1 to 100. With what probability will we pull out a number that is divisible by two or by five ?"
   ]
  },
  {
   "cell_type": "raw",
   "id": "f057bfd8",
   "metadata": {},
   "source": [
    "The probability of pulling out a number that is divisible by 2 or by 5 from 100 tickets can be calculated as follows:\n",
    "\n",
    "The number of integers between 1 and 100 that are divisible by 2 is 50.\n",
    "The number of integers between 1 and 100 that are divisible by 5 is 20.\n",
    "The number of integers between 1 and 100 that are divisible by both 2 and 5 (i.e., by 10) is 10.\n",
    "\n",
    "Therefore, the number of integers between 1 and 100 that are divisible by 2 or by 5 is:\n",
    "50+20−10=60\n",
    "Therefore, the probability of pulling out a number that is divisible by 2 or by 5 from 100 tickets is:\n",
    "60/100=0.6\n",
    "Therefore, the probability of pulling out a number that is divisible by 2 or by 5 from 100 tickets is 60%."
   ]
  },
  {
   "cell_type": "markdown",
   "id": "b47320c8",
   "metadata": {},
   "source": [
    "Q11. There are 49 products in the box, from which only 6 are high quality. What is the probability of pulling out 6 random products from the box and having at least four of them high quality ?"
   ]
  },
  {
   "cell_type": "raw",
   "id": "04f1916b",
   "metadata": {},
   "source": [
    "The probability of pulling out 6 random products from the box and having at least four of them high quality can be calculated as follows:\n",
    "\n",
    "The number of ways to select 6 products from 49 is (49/6).\n",
    "The number of ways to select exactly 4 high quality products and 2 low quality products is (6/4)(43/2).\n",
    "The number of ways to select exactly 5 high quality products and 1 low quality product is (6/5)(43/1).\n",
    "The number of ways to select exactly 6 high quality products and 0 low quality products is (6/6)(43/0).\n",
    "\n",
    "Therefore, the probability of pulling out 6 random products from the box and having at least four of them high quality is approximately 0.07%."
   ]
  },
  {
   "cell_type": "markdown",
   "id": "3834b0d0",
   "metadata": {},
   "source": [
    "Q12. What is the probability of throwing two dice and getting the sum of the fallen numbers exactly 9 ?"
   ]
  },
  {
   "cell_type": "raw",
   "id": "0075f4e9",
   "metadata": {},
   "source": [
    "The probability of getting a sum of 9 when two dice are thrown simultaneously can be calculated as follows:\n",
    "\n",
    "The total number of possible outcomes when two dice are thrown is 6 x 6 = 36.\n",
    "The number of ways to get a sum of 9 is 4, which are (3, 6), (4, 5), (5, 4), and (6, 3).\n",
    "Therefore, the probability of throwing two dice and getting the sum of the fallen numbers exactly 9 is approximately 11.1%."
   ]
  },
  {
   "cell_type": "markdown",
   "id": "74182356",
   "metadata": {},
   "source": [
    "Q13. What is the probability of throwing one dice and get : a) the even number b) the number divisible by three c) the number less than six ?"
   ]
  },
  {
   "cell_type": "raw",
   "id": "7e503160",
   "metadata": {},
   "source": [
    "The probability of getting an even number when rolling a fair die is 3/6 or 50%.\n",
    "\n",
    "The probability of getting a number divisible by three when rolling a fair die is 2/6 or 33.3%.\n",
    "\n",
    "The probability of getting a number less than six when rolling a fair die is 6/6 or 100%."
   ]
  },
  {
   "cell_type": "markdown",
   "id": "07bf3915",
   "metadata": {},
   "source": [
    "Q14. There are 60 chemical flasks in the laboratory, 6 of which are incorrectly labeled. What is the chance that if we randomly choose 5 flasks, exactly 3 of them will be labeled correctly ?"
   ]
  },
  {
   "cell_type": "raw",
   "id": "c0a9ddea",
   "metadata": {},
   "source": [
    "P(X=3)=(54/2)(6/3)/(60/5) ≈ 0.278\n",
    "Therefore, the probability of choosing exactly 3 correctly labeled flasks out of 5 from a set of 60 flasks with 6 incorrectly labeled is approximately 27.8%."
   ]
  },
  {
   "cell_type": "markdown",
   "id": "0adb3ac8",
   "metadata": {},
   "source": [
    "Q15. What is the probability that if we choose a trinity from 19 boys and 12 girls, we will have : a) three boys b) three girls c) two boys and one girl ?"
   ]
  },
  {
   "cell_type": "raw",
   "id": "0fe172ef",
   "metadata": {},
   "source": [
    "a) The probability of choosing three boys from 19 boys and 12 girls is:\n",
    "P(X=3)=(19/3)(12/0)/(31/3)≈0.052\n",
    "Therefore, the probability of choosing a trinity with three boys is approximately 5.2%.\n",
    "\n",
    "b) The probability of choosing three girls from 19 boys and 12 girls is:\n",
    "P(X=0)=(19/0)(12/3)/(31/3)≈0.031\n",
    "Therefore, the probability of choosing a trinity with three girls is approximately 3.1%.\n",
    "\n",
    "c) The probability of choosing two boys and one girl from 19 boys and 12 girls is:\n",
    "P(X=2)=(19/2)(12/1)/(31/3)≈0.387\n",
    "Therefore, the probability of choosing a trinity with two boys and one girl is approximately 38.7%."
   ]
  },
  {
   "cell_type": "markdown",
   "id": "5a174db3",
   "metadata": {},
   "source": [
    "Q16. There are 30 products in the box, from which 3 are faulty. Find the probability of pulling out 5 random products from the box and having among them at most two the faulty ones."
   ]
  },
  {
   "cell_type": "raw",
   "id": "77645aef",
   "metadata": {},
   "source": [
    "the probability of pulling out 5 random products from the box and having at most two faulty ones is:\n",
    "(27/5)+(3/1)(27/4)+(3/2)(27/3)/(30/5)≈0.98\n",
    "Therefore, the probability of pulling out 5 random products from the box and having at most two faulty ones is approximately 98%."
   ]
  },
  {
   "cell_type": "markdown",
   "id": "8f16a574",
   "metadata": {},
   "source": [
    "Q17. Johnny wrote a random natural number from 1 to 20. Determine the probability that he wrote a prime number."
   ]
  },
  {
   "cell_type": "raw",
   "id": "c318ba8a",
   "metadata": {},
   "source": [
    "The probability of Johnny writing a prime number can be calculated as follows:\n",
    "\n",
    "There are 8 prime numbers between 1 and 20: 2, 3, 5, 7, 11, 13, 17, and 19.\n",
    "The total number of natural numbers between 1 and 20 is 20.\n",
    "Therefore, the probability of Johnny writing a prime number is:\n",
    "\n",
    "frac820=frac25=mathbf40%\n",
    "Therefore, the probability of Johnny writing a prime number is 40%."
   ]
  },
  {
   "cell_type": "markdown",
   "id": "60dde067",
   "metadata": {},
   "source": [
    "Q18. Suzie has available the digits 0, 2, 3, 4, 5, 6, 7. What is the probability that when she creates a random three-digit number from the given digits, it will be the number 445 ?"
   ]
  },
  {
   "cell_type": "raw",
   "id": "d36c13ed",
   "metadata": {},
   "source": [
    "The probability of Suzie creating a random three-digit number from the given digits and it being the number 445 can be calculated as follows:\n",
    "\n",
    "The number of ways to arrange the digits 4, 4, and 5 is 3! / (2! * 1!) = 3.\n",
    "The number of ways to choose the remaining digit from the available digits is 4.\n",
    "The total number of ways to create a three-digit number from the given digits is 7 * 6 * 5 = 210.\n",
    "\n",
    "Therefore, the probability of Suzie creating a random three-digit number from the given digits and it being the number 445 is:\n",
    "frac3∗4210=mathbf0.057\n",
    "Therefore, the probability of Suzie creating a random three-digit number from the given digits and it being the number 445 is approximately 5.7%."
   ]
  },
  {
   "cell_type": "markdown",
   "id": "23932fbd",
   "metadata": {},
   "source": [
    "Q19. Out of 100 pairs of shoes 5 pairs are of poor quality. The auditor selects randomly four pairs of the shoes. What is the probability that at least one from the selected pairs is of poor quality ?"
   ]
  },
  {
   "cell_type": "raw",
   "id": "cd9534f3",
   "metadata": {},
   "source": [
    "The probability of selecting at least one pair of poor quality shoes out of four pairs selected randomly from 100 pairs of shoes with 5 pairs of poor quality can be calculated as follows:\n",
    "\n",
    "The probability of selecting no pair of poor quality shoes is (95/4)/(100/4)≈0.815.\n",
    "Therefore, the probability of selecting at least one pair of poor quality shoes is 1−0.815=0.185.\n",
    "\n",
    "Therefore, the probability that at least one from the selected pairs is of poor quality is approximately 18.5%."
   ]
  },
  {
   "cell_type": "markdown",
   "id": "a46ed575",
   "metadata": {},
   "source": [
    "Q20. In the lottery 5 numbers are drawn from among 35. For 3 correctly guessed numbers lottery pays the third prize. What is the probability of winning the third prize, if we submit just one ticket with 5 guessed numbers ?"
   ]
  },
  {
   "cell_type": "raw",
   "id": "36a2b484",
   "metadata": {},
   "source": [
    "The probability of winning the third prize in the lottery by guessing 3 out of 5 numbers correctly can be calculated using the hypergeometric distribution formula:\n",
    "P(X=3)=(5/3)(30/2)/(35/5)≈0.019\n",
    "Therefore, the probability of winning the third prize in the lottery by guessing 3 out of 5 numbers correctly is approximately 1.9%."
   ]
  },
  {
   "cell_type": "markdown",
   "id": "3b0f7c2c",
   "metadata": {},
   "source": [
    "Q21. In the mall they have 100 TV sets, of which 85 are of the first and 15 are of the second quality. The first ten customers received the TV set of the first quality. What is the probability that the eleventh customer will buy the TV set of the second quality ?"
   ]
  },
  {
   "cell_type": "raw",
   "id": "6a1d4985",
   "metadata": {},
   "source": [
    "The probability of the eleventh customer buying the TV set of the second quality can be calculated as follows:\n",
    "\n",
    "The number of TV sets of the first quality remaining in the mall is 85 - 10 = 75.\n",
    "The number of TV sets of the second quality remaining in the mall is 15.\n",
    "The total number of TV sets remaining in the mall is 75 + 15 = 90.\n",
    "Therefore, the probability of the eleventh customer buying the TV set of the second quality is:\n",
    "\n",
    "frac1590=frac16=mathbf16.7%\n",
    "Therefore, the probability of the eleventh customer buying the TV set of the second quality is approximately 16.7%."
   ]
  }
 ],
 "metadata": {
  "kernelspec": {
   "display_name": "Python 3 (ipykernel)",
   "language": "python",
   "name": "python3"
  },
  "language_info": {
   "codemirror_mode": {
    "name": "ipython",
    "version": 3
   },
   "file_extension": ".py",
   "mimetype": "text/x-python",
   "name": "python",
   "nbconvert_exporter": "python",
   "pygments_lexer": "ipython3",
   "version": "3.9.12"
  }
 },
 "nbformat": 4,
 "nbformat_minor": 5
}
